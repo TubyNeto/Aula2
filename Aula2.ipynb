{
 "cells": [
  {
   "cell_type": "code",
   "execution_count": 1,
   "metadata": {
    "collapsed": false
   },
   "outputs": [
    {
     "name": "stdout",
     "output_type": "stream",
     "text": [
      "1.25\n",
      "10.0\n",
      "-238.0\n",
      "2.71\n",
      "7e-05\n",
      "718000.0\n"
     ]
    }
   ],
   "source": [
    "print(0.125*10**1)\n",
    "print(0.100*10**2)\n",
    "print(-0.238*10**3)\n",
    "print(0.271*10)\n",
    "print(0.7*10**-4)\n",
    "print(0.718*10**6)"
   ]
  },
  {
   "cell_type": "code",
   "execution_count": 2,
   "metadata": {
    "collapsed": false
   },
   "outputs": [
    {
     "name": "stdout",
     "output_type": "stream",
     "text": [
      "1.25\n",
      "10.100000000000001\n",
      "-238.0\n",
      "2.72\n",
      "7e-05\n",
      "718000.0\n"
     ]
    }
   ],
   "source": [
    "print(0.125*10**1)\n",
    "print(0.101*10**2)\n",
    "print(-0.238*10**3)\n",
    "print(0.272*10)\n",
    "print(0.7*10**-4)\n",
    "print(0.718*10**6)"
   ]
  },
  {
   "cell_type": "code",
   "execution_count": null,
   "metadata": {
    "collapsed": true
   },
   "outputs": [],
   "source": []
  }
 ],
 "metadata": {
  "kernelspec": {
   "display_name": "Python [conda root]",
   "language": "python",
   "name": "conda-root-py"
  },
  "language_info": {
   "codemirror_mode": {
    "name": "ipython",
    "version": 3
   },
   "file_extension": ".py",
   "mimetype": "text/x-python",
   "name": "python",
   "nbconvert_exporter": "python",
   "pygments_lexer": "ipython3",
   "version": "3.5.2"
  }
 },
 "nbformat": 4,
 "nbformat_minor": 1
}
