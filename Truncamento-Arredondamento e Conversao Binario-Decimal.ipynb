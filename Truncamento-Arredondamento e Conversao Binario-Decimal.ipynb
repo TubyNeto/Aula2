{
 "cells": [
  {
   "cell_type": "code",
   "execution_count": 1,
   "metadata": {},
   "outputs": [
    {
     "name": "stdout",
     "output_type": "stream",
     "text": [
      "Truncamento: 0.305*10^3\n",
      "Arredondamento: 0.304*10^3\n"
     ]
    }
   ],
   "source": [
    "def truncation(num, exp, lim):\n",
    "\n",
    "  if (int(num.split('.')[0])>0):\n",
    "\n",
    "    integerSize=str(len(num.split('.')[0]))\n",
    "    fractional=num.split('.')[0] + num.split('.')[1] \n",
    "    if (len(fractional)>lim): fractional=fractional[:lim] \n",
    "    \n",
    "    if(int(integerSize)>exp): fractional='0.' + fractional + '*10^' + str(exp)\n",
    "    else: fractional='0.' + fractional + '*10^' + integerSize\n",
    "\n",
    "  else:\n",
    "\n",
    "    fractional=num.split('.')[1] \n",
    "\n",
    "    i=0\n",
    "    while (True):\n",
    "      if (fractional[i]=='0'): i+=1\n",
    "      else: break\n",
    "    fractional=fractional.replace('0', '', i)\n",
    "\n",
    "    if (len(fractional)>lim): fractional=fractional[:lim]\n",
    "\n",
    "    if (i>=exp): fractional='0.' + fractional + '*10^-' + str(exp)\n",
    "    elif (i==0): fractional='0.' + fractional + '*10^0'\n",
    "    else: fractional='0.' + fractional + '*10^-' + str(i)\n",
    "\n",
    "  print('Truncamento:', fractional)\n",
    "\n",
    "def rounding(num, exp, lim):\n",
    "  floor=False\n",
    "  ceil=False\n",
    "  if (int(num.split('.')[0])>0):\n",
    "\n",
    "    integerSize=str(len(num.split('.')[0]))\n",
    "  \n",
    "    fractional=num.split('.')[0] + num.split('.')[1]\n",
    "\n",
    "    if (len(fractional)>lim): \n",
    "      if (int(fractional[lim])>5): ceil=True\n",
    "      elif (int(fractional[lim])<5): floor=True\n",
    "      fractional=fractional[:lim]\n",
    "\n",
    "    if (ceil): fractional=str(int(fractional)+1) \n",
    "    if (floor): fractional=str(int(fractional)-1)  \n",
    "    \n",
    "\n",
    "    if(int(integerSize)>exp): fractional='0.' + fractional + '*10^' + str(exp)\n",
    "    else: fractional='0.' + fractional + '*10^' + integerSize\n",
    "  else:\n",
    "\n",
    "    fractional=num.split('.')[1] \n",
    "\n",
    "    i=0\n",
    "    while (True):\n",
    "      if (fractional[i]=='0'): i+=1\n",
    "      else: break\n",
    "    fractional=fractional.replace('0', '', i)\n",
    "\n",
    "    if (len(fractional)>lim): \n",
    "      if (int(fractional[lim])>5): ceil=True  \n",
    "      elif (int(fractional[lim])<5): floor=True\n",
    "      fractional=fractional[:lim]\n",
    "\n",
    "    if (ceil): fractional=str(int(fractional)+1) \n",
    "    if (floor): fractional=str(int(fractional)-1)    \n",
    "    if (i>=exp): fractional='0.' + fractional + '*10^-' + str(exp)\n",
    "    elif (i==0): fractional='0.' + fractional + '*10^0'\n",
    "    else: fractional='0.' + fractional + '*10^-' + str(i)\n",
    "  print('Arredondamento:', fractional)\n",
    "\n",
    "\n",
    "truncation('305.35', 5, 3)\n",
    "rounding('305.25', 5, 3)"
   ]
  },
  {
   "cell_type": "code",
   "execution_count": 2,
   "metadata": {},
   "outputs": [
    {
     "name": "stdout",
     "output_type": "stream",
     "text": [
      "A base em binário  0b1010\n",
      "Valor em binário a ser convertindo é r_1 =  0.109375\n",
      "[1, 0, 9, 3, 7, 5]\n"
     ]
    }
   ],
   "source": [
    "import math\n",
    "\n",
    "print('A base em binário ', bin(10))\n",
    "r_1 = 2**-4 + 2**-5 + 2**-6\n",
    "print( 'Valor em binário a ser convertindo é r_1 = ', r_1 )\n",
    "decimal=[]\n",
    "fracInt=0\n",
    "\n",
    "while (r_1!=0):\n",
    "    w=r_1*10\n",
    "    fracInt=math.modf(w)\n",
    "    b=fracInt[1]\n",
    "    r_1=fracInt[0]\n",
    "    decimal.append(int(b))\n",
    "    \n",
    "print(decimal)"
   ]
  }
 ],
 "metadata": {
  "kernelspec": {
   "display_name": "Python 3",
   "language": "python",
   "name": "python3"
  },
  "language_info": {
   "codemirror_mode": {
    "name": "ipython",
    "version": 3
   },
   "file_extension": ".py",
   "mimetype": "text/x-python",
   "name": "python",
   "nbconvert_exporter": "python",
   "pygments_lexer": "ipython3",
   "version": "3.6.5"
  }
 },
 "nbformat": 4,
 "nbformat_minor": 2
}
